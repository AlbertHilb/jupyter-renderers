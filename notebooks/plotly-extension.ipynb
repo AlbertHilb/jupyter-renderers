{
 "cells": [
  {
   "cell_type": "markdown",
   "metadata": {},
   "source": [
    "# plotly-extension"
   ]
  },
  {
   "cell_type": "markdown",
   "metadata": {},
   "source": [
    "## Plotly(data: list, layout: dict)"
   ]
  },
  {
   "cell_type": "code",
   "execution_count": 8,
   "metadata": {},
   "outputs": [
    {
     "data": {
      "application/vnd.plotly.v1+json": {
       "data": [
        {
         "type": "scatter",
         "uid": "e0f17f",
         "x": [
          1999,
          2000,
          2001,
          2002
         ],
         "y": [
          10,
          15,
          13,
          17
         ]
        },
        {
         "type": "scatter",
         "uid": "803115",
         "x": [
          1999,
          2000,
          2001,
          2002
         ],
         "y": [
          16,
          5,
          11,
          9
         ]
        }
       ],
       "layout": {
        "autosize": true,
        "title": "Sales Growth",
        "xaxis": {
         "autorange": true,
         "range": [
          1998.814479638009,
          2002.185520361991
         ],
         "showgrid": false,
         "title": "Year",
         "type": "linear",
         "zeroline": false
        },
        "yaxis": {
         "autorange": true,
         "range": [
          4.009708737864078,
          17.990291262135923
         ],
         "showline": false,
         "title": "Percent",
         "type": "linear"
        }
       }
      }
     },
     "metadata": {},
     "output_type": "display_data"
    }
   ],
   "source": [
    "def Plotly(data=[], layout={}):\n",
    "    bundle = {}\n",
    "    bundle['application/vnd.plotly.v1+json'] = {\n",
    "        'data': data,\n",
    "        'layout': layout,\n",
    "    }\n",
    "    display(bundle, raw=True)\n",
    "\n",
    "data = [\n",
    "    {'x': [1999, 2000, 2001, 2002], 'y': [10, 15, 13, 17], 'type': 'scatter'},\n",
    "    {'x': [1999, 2000, 2001, 2002], 'y': [16, 5, 11, 9], 'type': 'scatter'}\n",
    "]\n",
    "\n",
    "layout = {\n",
    "    'title': 'Sales Growth',\n",
    "    'xaxis': {'title': 'Year', 'showgrid': False, 'zeroline': False},\n",
    "    'yaxis': {'title': 'Percent', 'showline': False}\n",
    "}\n",
    "\n",
    "Plotly(data, layout)"
   ]
  },
  {
   "cell_type": "markdown",
   "metadata": {},
   "source": [
    "## Plotly(data: plotly.graph_objs.graph_objs.Heatmap)\n",
    "\n",
    "Using [plotly](https://github.com/plotly/plotly.py) library"
   ]
  },
  {
   "cell_type": "code",
   "execution_count": 9,
   "metadata": {},
   "outputs": [
    {
     "data": {
      "application/vnd.plotly.v1+json": {
       "data": [
        {
         "type": "heatmap",
         "uid": "8a8d4d",
         "z": [
          [
           1,
           20,
           30
          ],
          [
           20,
           1,
           60
          ],
          [
           30,
           60,
           1
          ]
         ],
         "zauto": true,
         "zmax": 60,
         "zmin": 1
        }
       ],
       "layout": {
        "autosize": true,
        "xaxis": {
         "autorange": true,
         "range": [
          -0.5,
          2.5
         ]
        },
        "yaxis": {
         "autorange": true,
         "range": [
          -0.5,
          2.5
         ]
        }
       }
      }
     },
     "metadata": {},
     "output_type": "display_data"
    }
   ],
   "source": [
    "import plotly\n",
    "from IPython.display import display\n",
    "import json\n",
    "\n",
    "def Plotly(data=[], layout={}):\n",
    "    bundle = {}\n",
    "    bundle['application/vnd.plotly.v1+json'] = {\n",
    "        'data': json.loads(json.dumps(data, cls=plotly.utils.PlotlyJSONEncoder)),\n",
    "        'layout': json.loads(json.dumps(layout, cls=plotly.utils.PlotlyJSONEncoder)),\n",
    "    }\n",
    "    display(bundle, raw=True)\n",
    "    \n",
    "trace = plotly.graph_objs.Heatmap(z=[[1, 20, 30],\n",
    "                      [20, 1, 60],\n",
    "                      [30, 60, 1]])\n",
    "data=[trace]\n",
    "Plotly(data)"
   ]
  },
  {
   "cell_type": "code",
   "execution_count": null,
   "metadata": {},
   "outputs": [],
   "source": []
  }
 ],
 "metadata": {
  "kernelspec": {
   "display_name": "Python 3",
   "language": "python",
   "name": "python3"
  },
  "language_info": {
   "codemirror_mode": {
    "name": "ipython",
    "version": 3
   },
   "file_extension": ".py",
   "mimetype": "text/x-python",
   "name": "python",
   "nbconvert_exporter": "python",
   "pygments_lexer": "ipython3",
   "version": "3.5.2"
  },
  "widgets": {
   "application/vnd.jupyter.widget-state+json": {
    "state": {},
    "version_major": 1,
    "version_minor": 0
   }
  }
 },
 "nbformat": 4,
 "nbformat_minor": 2
}
