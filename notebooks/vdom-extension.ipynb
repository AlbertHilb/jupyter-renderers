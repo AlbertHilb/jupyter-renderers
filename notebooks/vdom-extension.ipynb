{
 "cells": [
  {
   "cell_type": "markdown",
   "metadata": {},
   "source": [
    "# vdom-extension"
   ]
  },
  {
   "cell_type": "markdown",
   "metadata": {},
   "source": [
    "## VDOM(data: dict)"
   ]
  },
  {
   "cell_type": "code",
   "execution_count": 6,
   "metadata": {},
   "outputs": [
    {
     "data": {
      "application/vdom.v1+json": {
       "attributes": {},
       "children": [
        {
         "attributes": {},
         "children": "Our Incredibly Declarative Example",
         "key": 0,
         "tagName": "h1"
        },
        {
         "attributes": {},
         "children": [
          "Can you believe we wrote this ",
          {
           "attributes": {},
           "children": "in Python",
           "key": 1,
           "tagName": "b"
          },
          "?"
         ],
         "key": 1,
         "tagName": "p"
        },
        {
         "attributes": {
          "src": "https://media.giphy.com/media/xUPGcguWZHRC2HyBRS/giphy.gif"
         },
         "key": 2,
         "tagName": "img"
        },
        {
         "attributes": {},
         "children": [
          "What will ",
          {
           "attributes": {},
           "children": "you",
           "key": 1,
           "tagName": "b"
          },
          " create next?"
         ],
         "key": 3,
         "tagName": "p"
        }
       ],
       "tagName": "div"
      }
     },
     "metadata": {},
     "output_type": "display_data"
    }
   ],
   "source": [
    "from IPython.display import display\n",
    "\n",
    "def VDOM(data={}):\n",
    "    bundle = {}\n",
    "    bundle['application/vdom.v1+json'] = data\n",
    "    display(bundle, raw=True)\n",
    "\n",
    "VDOM({\n",
    "    'tagName': 'div',\n",
    "    'attributes': {},\n",
    "    'children': [{\n",
    "        'tagName': 'h1',\n",
    "        'attributes': {},\n",
    "        'children': 'Our Incredibly Declarative Example',\n",
    "        'key': 0\n",
    "    }, {\n",
    "        'tagName': 'p',\n",
    "        'attributes': {},\n",
    "        'children': ['Can you believe we wrote this ', {\n",
    "            'tagName': 'b',\n",
    "            'attributes': {},\n",
    "            'children': 'in Python',\n",
    "            'key': 1\n",
    "        }, '?'],\n",
    "        'key': 1\n",
    "    }, {\n",
    "        'tagName': 'img',\n",
    "        'attributes': {\n",
    "            'src': 'https://media.giphy.com/media/xUPGcguWZHRC2HyBRS/giphy.gif'\n",
    "        },\n",
    "        'key': 2\n",
    "    }, {\n",
    "        'tagName': 'p',\n",
    "        'attributes': {},\n",
    "        'children': ['What will ', {\n",
    "            'tagName': 'b',\n",
    "            'attributes': {},\n",
    "            'children': 'you',\n",
    "            'key': 1\n",
    "        }, ' create next?'],\n",
    "        'key': 3\n",
    "    }]\n",
    "})"
   ]
  },
  {
   "cell_type": "markdown",
   "metadata": {},
   "source": [
    "## vdom.div(children: list)"
   ]
  },
  {
   "cell_type": "code",
   "execution_count": 7,
   "metadata": {},
   "outputs": [
    {
     "data": {
      "application/vdom.v1+json": {
       "attributes": {},
       "children": [
        {
         "attributes": {},
         "children": "Our Incredibly Declarative Example",
         "key": 0,
         "tagName": "h1"
        },
        {
         "attributes": {},
         "children": [
          "Can you believe we wrote this ",
          {
           "attributes": {},
           "children": "in Python",
           "key": 1,
           "tagName": "b"
          },
          "?"
         ],
         "key": 1,
         "tagName": "p"
        },
        {
         "attributes": {
          "src": "https://media.giphy.com/media/xUPGcguWZHRC2HyBRS/giphy.gif"
         },
         "children": null,
         "key": 2,
         "tagName": "img"
        },
        {
         "attributes": {},
         "children": [
          "What will ",
          {
           "attributes": {},
           "children": "you",
           "key": 1,
           "tagName": "b"
          },
          " create next?"
         ],
         "key": 3,
         "tagName": "p"
        }
       ],
       "tagName": "div"
      },
      "text/plain": [
       "<vdom.core.createComponent.<locals>.Component at 0x1066f5a58>"
      ]
     },
     "execution_count": 7,
     "metadata": {},
     "output_type": "execute_result"
    }
   ],
   "source": [
    "from vdom import h1, p, img, div, b\n",
    "\n",
    "div([\n",
    "    h1('Our Incredibly Declarative Example'),\n",
    "    p(['Can you believe we wrote this ', b('in Python'), '?']),\n",
    "    img(src=\"https://media.giphy.com/media/xUPGcguWZHRC2HyBRS/giphy.gif\"),\n",
    "    p(['What will ', b('you'), ' create next?']),\n",
    "])"
   ]
  },
  {
   "cell_type": "code",
   "execution_count": null,
   "metadata": {},
   "outputs": [],
   "source": []
  }
 ],
 "metadata": {
  "kernelspec": {
   "display_name": "Python 3",
   "language": "python",
   "name": "python3"
  },
  "language_info": {
   "codemirror_mode": {
    "name": "ipython",
    "version": 3
   },
   "file_extension": ".py",
   "mimetype": "text/x-python",
   "name": "python",
   "nbconvert_exporter": "python",
   "pygments_lexer": "ipython3",
   "version": "3.5.2"
  }
 },
 "nbformat": 4,
 "nbformat_minor": 2
}
