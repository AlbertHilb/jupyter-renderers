{
 "cells": [
  {
   "cell_type": "markdown",
   "metadata": {},
   "source": [
    "# json-extension"
   ]
  },
  {
   "cell_type": "markdown",
   "metadata": {},
   "source": [
    "## JSON(data: dict)"
   ]
  },
  {
   "cell_type": "code",
   "execution_count": 1,
   "metadata": {},
   "outputs": [
    {
     "data": {
      "application/json": {
       "array": [
        1,
        2,
        3
       ],
       "bool": true,
       "object": {
        "foo": "bar"
       },
       "string": "string"
      },
      "text/plain": [
       "<IPython.core.display.JSON object>"
      ]
     },
     "execution_count": 1,
     "metadata": {
      "application/json": {
       "expanded": false
      }
     },
     "output_type": "execute_result"
    }
   ],
   "source": [
    "from IPython.display import JSON\n",
    "\n",
    "JSON({\n",
    "    'string': 'string',\n",
    "    'array': [1, 2, 3],\n",
    "    'bool': True,\n",
    "    'object': {\n",
    "        'foo': 'bar'\n",
    "    }\n",
    "})"
   ]
  },
  {
   "cell_type": "markdown",
   "metadata": {},
   "source": [
    "## JSON(filename: string)"
   ]
  },
  {
   "cell_type": "code",
   "execution_count": 2,
   "metadata": {},
   "outputs": [
    {
     "data": {
      "application/json": {
       "cells": [
        {
         "cell_type": "markdown",
         "metadata": {},
         "source": [
          "# json-extension"
         ]
        },
        {
         "cell_type": "markdown",
         "metadata": {},
         "source": [
          "## JSON(data: dict)"
         ]
        },
        {
         "cell_type": "code",
         "execution_count": 6,
         "metadata": {},
         "outputs": [
          {
           "data": {
            "application/json": {
             "array": [
              1,
              2,
              3
             ],
             "bool": true,
             "object": {
              "foo": "bar"
             },
             "string": "string"
            },
            "text/plain": [
             "<IPython.core.display.JSON object>"
            ]
           },
           "execution_count": 6,
           "metadata": {
            "application/json": {
             "expanded": false
            }
           },
           "output_type": "execute_result"
          }
         ],
         "source": [
          "from IPython.display import JSON\n",
          "\n",
          "JSON({\n",
          "    'string': 'string',\n",
          "    'array': [1, 2, 3],\n",
          "    'bool': True,\n",
          "    'object': {\n",
          "        'foo': 'bar'\n",
          "    }\n",
          "})"
         ]
        },
        {
         "cell_type": "markdown",
         "metadata": {},
         "source": [
          "## JSON(data: filename)"
         ]
        },
        {
         "cell_type": "code",
         "execution_count": 7,
         "metadata": {},
         "outputs": [
          {
           "data": {
            "application/json": {
             "cells": [
              {
               "cell_type": "markdown",
               "metadata": {},
               "source": [
                "# json-extension"
               ]
              },
              {
               "cell_type": "markdown",
               "metadata": {},
               "source": [
                "## JSON(data: dict)"
               ]
              },
              {
               "cell_type": "code",
               "execution_count": null,
               "metadata": {},
               "outputs": [],
               "source": [
                "from IPython.display import JSON\n",
                "\n",
                "JSON({\n",
                "    'string': 'string',\n",
                "    'array': [1, 2, 3],\n",
                "    'bool': True,\n",
                "    'object': {\n",
                "        'foo': 'bar'\n",
                "    }\n",
                "})"
               ]
              },
              {
               "cell_type": "markdown",
               "metadata": {},
               "source": [
                "## JSON(data: filename)"
               ]
              },
              {
               "cell_type": "code",
               "execution_count": null,
               "metadata": {},
               "outputs": [],
               "source": [
                "JSON('json-extension.ipynb')"
               ]
              },
              {
               "cell_type": "markdown",
               "metadata": {},
               "source": [
                "## JSON(data: dict, expanded: bool)"
               ]
              },
              {
               "cell_type": "code",
               "execution_count": null,
               "metadata": {},
               "outputs": [],
               "source": [
                "JSON({\n",
                "    'string': 'string',\n",
                "    'array': [1, 2, 3],\n",
                "    'bool': True,\n",
                "    'object': {\n",
                "        'foo': 'bar'\n",
                "    }\n",
                "}, expanded=True)"
               ]
              },
              {
               "cell_type": "code",
               "execution_count": null,
               "metadata": {},
               "outputs": [],
               "source": []
              }
             ],
             "metadata": {
              "kernelspec": {
               "display_name": "Python 3",
               "language": "python",
               "name": "python3"
              },
              "language_info": {
               "codemirror_mode": {
                "name": "ipython",
                "version": 3
               },
               "file_extension": ".py",
               "mimetype": "text/x-python",
               "name": "python",
               "nbconvert_exporter": "python",
               "pygments_lexer": "ipython3",
               "version": "3.5.2"
              },
              "widgets": {
               "state": {},
               "version": "2.0.10"
              }
             },
             "nbformat": 4,
             "nbformat_minor": 2
            },
            "text/plain": [
             "<IPython.core.display.JSON object>"
            ]
           },
           "execution_count": 7,
           "metadata": {
            "application/json": {
             "expanded": false
            }
           },
           "output_type": "execute_result"
          }
         ],
         "source": [
          "JSON('json-extension.ipynb')"
         ]
        },
        {
         "cell_type": "markdown",
         "metadata": {},
         "source": [
          "## JSON(data: dict, expanded: bool)"
         ]
        },
        {
         "cell_type": "code",
         "execution_count": 8,
         "metadata": {},
         "outputs": [
          {
           "data": {
            "application/json": {
             "array": [
              1,
              2,
              3
             ],
             "bool": true,
             "object": {
              "foo": "bar"
             },
             "string": "string"
            },
            "text/plain": [
             "<IPython.core.display.JSON object>"
            ]
           },
           "execution_count": 8,
           "metadata": {
            "application/json": {
             "expanded": true
            }
           },
           "output_type": "execute_result"
          }
         ],
         "source": [
          "JSON({\n",
          "    'string': 'string',\n",
          "    'array': [1, 2, 3],\n",
          "    'bool': True,\n",
          "    'object': {\n",
          "        'foo': 'bar'\n",
          "    }\n",
          "}, expanded=True)"
         ]
        },
        {
         "cell_type": "code",
         "execution_count": null,
         "metadata": {},
         "outputs": [],
         "source": []
        }
       ],
       "metadata": {
        "kernelspec": {
         "display_name": "Python 3",
         "language": "python",
         "name": "python3"
        },
        "language_info": {
         "codemirror_mode": {
          "name": "ipython",
          "version": 3
         },
         "file_extension": ".py",
         "mimetype": "text/x-python",
         "name": "python",
         "nbconvert_exporter": "python",
         "pygments_lexer": "ipython3",
         "version": "3.5.2"
        },
        "widgets": {
         "state": {},
         "version": "2.0.10"
        }
       },
       "nbformat": 4,
       "nbformat_minor": 2
      },
      "text/plain": [
       "<IPython.core.display.JSON object>"
      ]
     },
     "execution_count": 2,
     "metadata": {
      "application/json": {
       "expanded": false
      }
     },
     "output_type": "execute_result"
    }
   ],
   "source": [
    "JSON('json-extension.ipynb')"
   ]
  },
  {
   "cell_type": "markdown",
   "metadata": {},
   "source": [
    "## JSON(data: dict, expanded: bool)"
   ]
  },
  {
   "cell_type": "code",
   "execution_count": 8,
   "metadata": {},
   "outputs": [
    {
     "data": {
      "application/json": {
       "array": [
        1,
        2,
        3
       ],
       "bool": true,
       "object": {
        "foo": "bar"
       },
       "string": "string"
      },
      "text/plain": [
       "<IPython.core.display.JSON object>"
      ]
     },
     "execution_count": 8,
     "metadata": {
      "application/json": {
       "expanded": true
      }
     },
     "output_type": "execute_result"
    }
   ],
   "source": [
    "JSON({\n",
    "    'string': 'string',\n",
    "    'array': [1, 2, 3],\n",
    "    'bool': True,\n",
    "    'object': {\n",
    "        'foo': 'bar'\n",
    "    }\n",
    "}, expanded=True)"
   ]
  },
  {
   "cell_type": "code",
   "execution_count": null,
   "metadata": {},
   "outputs": [],
   "source": []
  }
 ],
 "metadata": {
  "kernelspec": {
   "display_name": "Python 3",
   "language": "python",
   "name": "python3"
  },
  "language_info": {
   "codemirror_mode": {
    "name": "ipython",
    "version": 3
   },
   "file_extension": ".py",
   "mimetype": "text/x-python",
   "name": "python",
   "nbconvert_exporter": "python",
   "pygments_lexer": "ipython3",
   "version": "3.5.2"
  },
  "widgets": {
   "state": {},
   "version": "2.0.10"
  }
 },
 "nbformat": 4,
 "nbformat_minor": 2
}
